{
 "cells": [
  {
   "cell_type": "code",
   "execution_count": 1,
   "id": "sustained-sister",
   "metadata": {
    "id": "sustained-sister"
   },
   "outputs": [],
   "source": [
    "import numpy as np\n",
    "import os, itertools, copy, math, random, gc\n",
    "import matplotlib.pyplot as plt\n",
    "\n",
    "os.environ['CUDA_LAUNCH_BLOCKING'] = \"1\"\n",
    "import torch\n",
    "import torchvision\n",
    "import torch.nn as nn\n",
    "\n",
    "import torch.nn.functional as F\n",
    "import torchvision.transforms as transforms\n",
    "import torch.optim as optim\n",
    "import torch.utils.data as data\n",
    "\n",
    "from tqdm import tqdm"
   ]
  },
  {
   "cell_type": "code",
   "execution_count": 2,
   "id": "zU6-WcA5DqHx",
   "metadata": {
    "colab": {
     "base_uri": "https://localhost:8080/"
    },
    "id": "zU6-WcA5DqHx",
    "outputId": "2e5275b7-a42a-403c-c9f2-503b66dc957c"
   },
   "outputs": [
    {
     "name": "stdout",
     "output_type": "stream",
     "text": [
      "Mounted at /content/drive\n",
      "/content/drive/.shortcut-targets-by-id/1ZmqgtlvZFKVwpSIqNpZ9XKM-FUWkukLU/AdvancedML/HW2\n"
     ]
    }
   ],
   "source": [
    "from google.colab import drive\n",
    "drive.mount('/content/drive')\n",
    "%cd '/content/drive/MyDrive/AdvancedML/HW2'"
   ]
  },
  {
   "cell_type": "code",
   "execution_count": 3,
   "id": "OUC0LB6_ZQcX",
   "metadata": {
    "id": "OUC0LB6_ZQcX"
   },
   "outputs": [],
   "source": [
    "# def clear_cache():\n",
    "#   global  outputs, targets, protos, logits\n",
    "#   outputs = None\n",
    "#   targets = None\n",
    "#   protos = None\n",
    "#   logits = None\n",
    "#   torch.cuda.empty_cache()\n",
    "#   gc.collect()"
   ]
  },
  {
   "cell_type": "markdown",
   "id": "complete-improvement",
   "metadata": {
    "id": "complete-improvement"
   },
   "source": [
    "# Dataset"
   ]
  },
  {
   "cell_type": "code",
   "execution_count": 4,
   "id": "adverse-hamilton",
   "metadata": {
    "colab": {
     "base_uri": "https://localhost:8080/"
    },
    "id": "adverse-hamilton",
    "outputId": "c215eaa3-847e-45c7-81ce-a078e34ff0e9"
   },
   "outputs": [
    {
     "name": "stdout",
     "output_type": "stream",
     "text": [
      "Files already downloaded and verified\n",
      "Files already downloaded and verified\n"
     ]
    }
   ],
   "source": [
    "transform = transforms.Compose([\n",
    "    transforms.ToTensor()\n",
    "])\n",
    "cifar_train = torchvision.datasets.CIFAR100(root='./data', train=True, download=True, transform=transform)\n",
    "cifar_test = torchvision.datasets.CIFAR100(root='./data', train=False, download=True, transform=transform)"
   ]
  },
  {
   "cell_type": "code",
   "execution_count": 5,
   "id": "conceptual-scott",
   "metadata": {
    "id": "conceptual-scott"
   },
   "outputs": [],
   "source": [
    "cifar100 = torch.utils.data.ConcatDataset([cifar_train, cifar_test])\n",
    "classes = list(range(100))\n",
    "random.shuffle(classes)\n",
    "train_classes, val_classes, test_classes = sorted(classes[:70]), sorted(classes[70:90]), sorted(classes[90:])\n",
    "\n",
    "train_dataset = sorted([d for d in cifar100 if d[1] in train_classes], key=lambda d:d[1])\n",
    "train_labels = np.repeat(train_classes, 600)\n",
    "val_dataset = sorted([d for d in cifar100 if d[1] in val_classes], key=lambda d:d[1])\n",
    "val_labels = np.repeat(val_classes, 600)\n",
    "test_dataset = sorted([d for d in cifar100 if d[1] in test_classes], key=lambda d:d[1])\n",
    "test_labels = np.repeat(test_classes, 600)"
   ]
  },
  {
   "cell_type": "code",
   "execution_count": 6,
   "id": "metallic-procurement",
   "metadata": {
    "id": "metallic-procurement"
   },
   "outputs": [],
   "source": [
    "class BatchSampler(object):\n",
    "    def __init__(self, labels, classes_per_it, num_support_samples, num_query_samples, iterations, batch_size):\n",
    "        super(BatchSampler, self).__init__()\n",
    "        self.labels = labels\n",
    "        self.classes_per_it = classes_per_it\n",
    "        self.support_sample_per_class = num_support_samples\n",
    "        self.query_sample_per_class = num_query_samples\n",
    "        self.iterations = iterations\n",
    "        self.batch_size = batch_size\n",
    "\n",
    "        self.classes = np.unique(self.labels)\n",
    "        self.indices = np.arange(len(self.labels))\n",
    "\n",
    "    def __iter__(self):\n",
    "\n",
    "        for it in range(self.iterations):\n",
    "            total_batch_indexes = np.array([])\n",
    "\n",
    "            for _ in range(self.batch_size):\n",
    "                supports = np.array([], dtype=np.int64)\n",
    "                queries = np.array([], dtype=np.int64)\n",
    "                replace = False if self.classes_per_it <= len(self.classes) else True\n",
    "                sample_classes = np.random.choice(self.classes , size=self.classes_per_it, replace=replace)\n",
    "                for c in sample_classes:\n",
    "                    class_samples = np.random.choice(self.indices[self.labels==c], size=self.support_sample_per_class+self.query_sample_per_class, replace=False)\n",
    "                    supports = np.append(supports, class_samples[0:self.support_sample_per_class])\n",
    "                    queries = np.append(queries, class_samples[self.support_sample_per_class:])\n",
    "                #np.random.shuffle(supports)\n",
    "                #np.random.shuffle(queries)\n",
    "                total_batch_indexes = np.append(total_batch_indexes, np.append(supports, queries))\n",
    "\n",
    "            yield total_batch_indexes.astype(int)\n",
    "\n",
    "    def __len__(self):\n",
    "        return self.iterations"
   ]
  },
  {
   "cell_type": "code",
   "execution_count": 7,
   "id": "verbal-baseball",
   "metadata": {
    "id": "verbal-baseball"
   },
   "outputs": [],
   "source": [
    "def get_dataloaders(N_tr, K_tr, Q_tr, N_ts, K_ts, Q_ts):\n",
    "    \n",
    "    iterations = 500\n",
    "    batch_size = 16\n",
    "\n",
    "    train_sampler = BatchSampler(labels=train_labels, classes_per_it=N_tr,\n",
    "                                  num_support_samples=K_tr, num_query_samples=Q_tr, iterations=iterations,\n",
    "                                  batch_size=batch_size)\n",
    "\n",
    "    val_sampler = BatchSampler(labels=val_labels, classes_per_it=N_tr,\n",
    "                                  num_support_samples=K_tr, num_query_samples=Q_tr, iterations=iterations,\n",
    "                                  batch_size=batch_size)\n",
    "\n",
    "    test_sampler = BatchSampler(labels=test_labels, classes_per_it=N_ts,\n",
    "                                  num_support_samples=K_ts, num_query_samples=Q_ts, iterations=iterations,\n",
    "                                  batch_size=batch_size)\n",
    "    \n",
    "    train_dataloader = torch.utils.data.DataLoader(train_dataset, batch_sampler=train_sampler)\n",
    "    val_dataloader = torch.utils.data.DataLoader(val_dataset, batch_sampler=val_sampler)\n",
    "    test_dataloader = torch.utils.data.DataLoader(test_dataset, batch_sampler=test_sampler)\n",
    "    \n",
    "    return train_dataloader, val_dataloader, test_dataloader"
   ]
  },
  {
   "cell_type": "markdown",
   "id": "vital-recipe",
   "metadata": {
    "id": "vital-recipe"
   },
   "source": [
    "# Model"
   ]
  },
  {
   "cell_type": "code",
   "execution_count": 8,
   "id": "concerned-intervention",
   "metadata": {
    "id": "concerned-intervention"
   },
   "outputs": [],
   "source": [
    "def conv_block(in_channels, out_channels):\n",
    "    return nn.Sequential(\n",
    "        nn.Conv2d(in_channels, out_channels, 3, padding=1),\n",
    "        nn.BatchNorm2d(out_channels),\n",
    "        nn.ReLU(),\n",
    "        nn.MaxPool2d(2)\n",
    "    )\n",
    "\n",
    "\n",
    "class ProtoNet(nn.Module):\n",
    "    def __init__(self, in_dim=1, hid_dim=64, out_dim=64):\n",
    "        super(ProtoNet, self).__init__()\n",
    "        self.encoder = nn.Sequential(\n",
    "            conv_block(in_dim, hid_dim),\n",
    "            conv_block(hid_dim, hid_dim),\n",
    "            conv_block(hid_dim, hid_dim),\n",
    "            conv_block(hid_dim, out_dim),\n",
    "            nn.Flatten(),\n",
    "            nn.Linear(256, 512),\n",
    "            nn.BatchNorm1d(512),\n",
    "            nn.LeakyReLU(),\n",
    "            nn.Linear(512,512),\n",
    "            nn.BatchNorm1d(512),\n",
    "            nn.LeakyReLU()\n",
    "        )\n",
    "\n",
    "    def forward(self, x):\n",
    "        x = self.encoder(x)\n",
    "        return x.view(x.size(0), -1)"
   ]
  },
  {
   "cell_type": "markdown",
   "id": "brief-shakespeare",
   "metadata": {
    "id": "brief-shakespeare"
   },
   "source": [
    "# Train"
   ]
  },
  {
   "cell_type": "code",
   "execution_count": 9,
   "id": "P1_6GvXTfBmi",
   "metadata": {
    "colab": {
     "base_uri": "https://localhost:8080/"
    },
    "id": "P1_6GvXTfBmi",
    "outputId": "5b7f5b68-7e52-4325-a5eb-5b2687e16da2"
   },
   "outputs": [
    {
     "name": "stdout",
     "output_type": "stream",
     "text": [
      "Using device: cuda\n",
      "\n"
     ]
    }
   ],
   "source": [
    "device = torch.device('cuda' if torch.cuda.is_available() else 'cpu')\n",
    "print('Using device:', device)\n",
    "print()\n",
    "\n",
    "#Additional Info when using cuda\n",
    "def get_device_stat():\n",
    "  if device.type == 'cuda':\n",
    "      print(torch.cuda.get_device_name(0))\n",
    "      print('Memory Usage:')\n",
    "      print('Allocated:', round(torch.cuda.memory_allocated(0)/1024**3,1), 'GB')\n",
    "      print('Cached:   ', round(torch.cuda.memory_cached(0)/1024**3,1), 'GB')"
   ]
  },
  {
   "cell_type": "code",
   "execution_count": 9,
   "id": "Vryt3pIBfGT5",
   "metadata": {
    "id": "Vryt3pIBfGT5"
   },
   "outputs": [],
   "source": []
  },
  {
   "cell_type": "code",
   "execution_count": 22,
   "id": "incoming-income",
   "metadata": {
    "id": "incoming-income"
   },
   "outputs": [],
   "source": [
    "def distance(protos, outputs):\n",
    "    # protos: [Batch, N, emb_dim]\n",
    "    # outputs: [Batch, N*Q, emb_dim]\n",
    "    NQ = outputs.shape[1]\n",
    "    N = protos.shape[1]\n",
    "    protos = torch.repeat_interleave( torch.unsqueeze(protos.detach(), dim=1), NQ, dim=1)\n",
    "    outputs = torch.repeat_interleave( torch.unsqueeze(outputs, dim=2), N, dim=2)\n",
    "    return -torch.pow(protos-outputs, 2).sum(dim=-1)\n",
    "    \n",
    "\n",
    "def loss_fn(outputs, targets, N, K, Q):\n",
    "    emb_dim = outputs.shape[-1]\n",
    "    outputs = outputs.view(-1, N*(K+Q), emb_dim)\n",
    "    batch_size = outputs.shape[0]\n",
    "    #targets = targets.view(-1, N*(K+Q))\n",
    "    if device == 'cpu':\n",
    "        tensor_cnst = torch.LongTensor\n",
    "    else:\n",
    "        tensor_cnst = torch.cuda.LongTensor\n",
    "    targets = tensor_cnst( np.hstack( [np.repeat(np.arange(N), Q)]*batch_size), device=device)\n",
    "\n",
    "    protos = torch.mean( outputs[:,:N*K,:].view(batch_size, N, K, emb_dim), dim=2 )\n",
    "    logits = distance(protos.detach(), outputs[:,N*K:,:]).view(-1, N) #.view(-1, N, Q, outputs.size()[-1]))\n",
    "    loss = F.cross_entropy(logits, targets)\n",
    "    \n",
    "    predictions = torch.argmax(logits, dim=-1)\n",
    "    acc = torch.sum(predictions == targets)/logits.shape[0]\n",
    "    \n",
    "    return loss, acc\n",
    "    \n",
    "def train_test(model, N_tr, K_tr, Q_tr, N_ts, K_ts, Q_ts):\n",
    "\n",
    "    train_dataloader, val_dataloader, test_dataloader = get_dataloaders(N_tr, K_tr, Q_tr, N_ts, K_ts, Q_ts)\n",
    "    \n",
    "    best_acc, best_state = 0.0, None\n",
    "    train_loss, train_acc, val_loss, val_acc, test_loss, test_acc = [], [], [], [], [], []\n",
    "\n",
    "\n",
    "    if model is None:\n",
    "        model = ProtoNet(in_dim=3, hid_dim=64, out_dim=64).to(device)\n",
    "        optim = torch.optim.Adam(params=model.parameters(), lr=0.001)\n",
    "\n",
    "        for epoch in range(3):\n",
    "            print('=== Epoch: {} ==='.format(epoch+1))\n",
    "\n",
    "            #Train\n",
    "            model.train()\n",
    "            for inputs, labels  in tqdm(train_dataloader):\n",
    "                inputs = inputs.to(device)\n",
    "                labels = labels.to(device)\n",
    "\n",
    "                optim.zero_grad()\n",
    "\n",
    "                outputs = model(inputs)\n",
    "                loss, acc = loss_fn(outputs, labels, N_tr, K_tr, Q_tr)\n",
    "                loss.backward()\n",
    "\n",
    "                optim.step()\n",
    "\n",
    "                train_loss.append(loss.item())\n",
    "                train_acc.append(acc.item())\n",
    "\n",
    "                #clear_cache()\n",
    "\n",
    "            print('Train Loss: {}, Train Acc: {}'.format(np.mean(train_loss), np.mean(train_acc)))\n",
    "\n",
    "            #clear_cache()\n",
    "            #get_device_stat()\n",
    "\n",
    "            #Validation\n",
    "            model.eval()\n",
    "            with torch.no_grad():\n",
    "                for inputs, labels in iter(val_dataloader):\n",
    "                    inputs = inputs.to(device)\n",
    "                    labels = labels.to(device)\n",
    "\n",
    "                    outputs = model(inputs)\n",
    "\n",
    "                    loss, acc = loss_fn(outputs, labels, N_tr, K_tr, Q_tr)\n",
    "\n",
    "                    val_loss.append(loss.item())\n",
    "                    val_acc.append(acc.item())\n",
    "                    \n",
    "                    #clear_cache()\n",
    "\n",
    "                print('Val Loss: {}, Val Acc: {}'.format(np.mean(val_loss), np.mean(val_acc)))\n",
    "                if np.mean(val_acc) >= best_acc:\n",
    "                    best_acc = np.mean(val_acc)\n",
    "                    best_state = model.state_dict()\n",
    "                \n",
    "        \n",
    "    #Test\n",
    "    if best_state is not None:\n",
    "        model.load_state_dict(best_state)\n",
    "    model.eval()\n",
    "\n",
    "    with torch.no_grad():\n",
    "        for inputs, labels in iter(test_dataloader):\n",
    "            inputs = inputs.to(device)\n",
    "            labels = labels.to(device)\n",
    "            \n",
    "            outputs = model(inputs)\n",
    "\n",
    "            loss, acc = loss_fn(outputs, labels, N_ts, K_ts, Q_ts)\n",
    "\n",
    "            test_loss.append(loss.item())\n",
    "            test_acc.append(acc.item())\n",
    "\n",
    "            #clear_cache()\n",
    "\n",
    "        print('Test Acc: {}'.format(np.mean(test_acc)))\n",
    "\n",
    "    return model, np.mean(test_acc)"
   ]
  },
  {
   "cell_type": "markdown",
   "id": "junior-sierra",
   "metadata": {
    "id": "junior-sierra"
   },
   "source": [
    "## 10-way 8-shot"
   ]
  },
  {
   "cell_type": "code",
   "execution_count": null,
   "id": "minute-cannon",
   "metadata": {
    "colab": {
     "base_uri": "https://localhost:8080/"
    },
    "id": "minute-cannon",
    "outputId": "912ac3bb-daf7-4dcd-d619-4f3a33ed7043"
   },
   "outputs": [
    {
     "name": "stdout",
     "output_type": "stream",
     "text": [
      "=== Epoch: 1 ===\n"
     ]
    },
    {
     "name": "stderr",
     "output_type": "stream",
     "text": [
      "100%|██████████| 500/500 [07:48<00:00,  1.07it/s]\n"
     ]
    },
    {
     "name": "stdout",
     "output_type": "stream",
     "text": [
      "Train Loss: 1.610353457570076, Train Acc: 0.610512509226799\n",
      "Val Loss: 1.5080846643447876, Val Acc: 0.5269539182782174\n",
      "=== Epoch: 2 ===\n"
     ]
    },
    {
     "name": "stderr",
     "output_type": "stream",
     "text": [
      "100%|██████████| 500/500 [07:47<00:00,  1.07it/s]\n"
     ]
    },
    {
     "name": "stdout",
     "output_type": "stream",
     "text": [
      "Train Loss: 1.1194121722280979, Train Acc: 0.7017238385081291\n",
      "Val Loss: 1.6749366129636765, Val Acc: 0.5300531371533871\n",
      "=== Epoch: 3 ===\n"
     ]
    },
    {
     "name": "stderr",
     "output_type": "stream",
     "text": [
      "100%|██████████| 500/500 [07:47<00:00,  1.07it/s]\n"
     ]
    },
    {
     "name": "stdout",
     "output_type": "stream",
     "text": [
      "Train Loss: 0.8765434939265251, Train Acc: 0.7600151147445043\n",
      "Val Loss: 1.947384149312973, Val Acc: 0.5294135539929072\n",
      "=== Epoch: 4 ===\n"
     ]
    },
    {
     "name": "stderr",
     "output_type": "stream",
     "text": [
      "100%|██████████| 500/500 [07:48<00:00,  1.07it/s]\n"
     ]
    },
    {
     "name": "stdout",
     "output_type": "stream",
     "text": [
      "Train Loss: 0.7428990888595581, Train Acc: 0.7964093860983849\n",
      "Val Loss: 2.228310157120228, Val Acc: 0.5291052857786417\n",
      "=== Epoch: 5 ===\n"
     ]
    },
    {
     "name": "stderr",
     "output_type": "stream",
     "text": [
      "100%|██████████| 500/500 [07:48<00:00,  1.07it/s]\n"
     ]
    },
    {
     "name": "stdout",
     "output_type": "stream",
     "text": [
      "Train Loss: 0.6636326555728912, Train Acc: 0.82127438621521\n",
      "Val Loss: 2.6455072629451752, Val Acc: 0.5264387619853019\n",
      "Test Acc: 0.5159851682186126\n"
     ]
    }
   ],
   "source": [
    "model,_ = train_test(model=None, N_tr=10, K_tr=8, Q_tr=8, N_ts=10, K_ts=8, Q_ts=8)"
   ]
  },
  {
   "cell_type": "markdown",
   "id": "reduced-greeting",
   "metadata": {
    "id": "reduced-greeting"
   },
   "source": [
    "## 10-way x-shot"
   ]
  },
  {
   "cell_type": "code",
   "execution_count": null,
   "id": "existing-desire",
   "metadata": {
    "colab": {
     "base_uri": "https://localhost:8080/",
     "height": 1000
    },
    "id": "existing-desire",
    "outputId": "053da962-4eb1-4ee7-81b9-327810ad8056"
   },
   "outputs": [
    {
     "name": "stdout",
     "output_type": "stream",
     "text": [
      "\n",
      " \u001b[1;36m --------------- 10-way 1-shot --------------- \u001b[0m \n",
      "\n",
      "=== Epoch: 1 ===\n"
     ]
    },
    {
     "name": "stderr",
     "output_type": "stream",
     "text": [
      "100%|██████████| 500/500 [01:13<00:00,  6.78it/s]\n"
     ]
    },
    {
     "name": "stdout",
     "output_type": "stream",
     "text": [
      "Train Loss: 6.6471484515666965, Train Acc: 0.26464375537633894\n",
      "Val Loss: 2.172147097110748, Val Acc: 0.28222500535845757\n",
      "=== Epoch: 2 ===\n"
     ]
    },
    {
     "name": "stderr",
     "output_type": "stream",
     "text": [
      "100%|██████████| 500/500 [01:13<00:00,  6.82it/s]\n"
     ]
    },
    {
     "name": "stdout",
     "output_type": "stream",
     "text": [
      "Train Loss: 4.378423909783363, Train Acc: 0.2929093805998564\n",
      "Val Loss: 2.1186990962028505, Val Acc: 0.2944750052392483\n",
      "=== Epoch: 3 ===\n"
     ]
    },
    {
     "name": "stderr",
     "output_type": "stream",
     "text": [
      "100%|██████████| 500/500 [01:13<00:00,  6.76it/s]\n"
     ]
    },
    {
     "name": "stdout",
     "output_type": "stream",
     "text": [
      "Train Loss: 3.6192961190541584, Train Acc: 0.3146500059167544\n",
      "Val Loss: 2.1580859459241233, Val Acc: 0.2972729224761327\n",
      "=== Epoch: 4 ===\n"
     ]
    },
    {
     "name": "stderr",
     "output_type": "stream",
     "text": [
      "100%|██████████| 500/500 [01:13<00:00,  6.76it/s]\n"
     ]
    },
    {
     "name": "stdout",
     "output_type": "stream",
     "text": [
      "Train Loss: 3.2040637862086294, Train Acc: 0.33744375582039354\n",
      "Val Loss: 2.211375683426857, Val Acc: 0.3003187560811639\n",
      "=== Epoch: 5 ===\n"
     ]
    },
    {
     "name": "stderr",
     "output_type": "stream",
     "text": [
      "100%|██████████| 500/500 [01:13<00:00,  6.76it/s]\n"
     ]
    },
    {
     "name": "stdout",
     "output_type": "stream",
     "text": [
      "Train Loss: 2.9227968997955323, Train Acc: 0.35854625598192214\n",
      "Val Loss: 2.199276253986359, Val Acc: 0.3084275059521198\n",
      "Test Acc: 0.3405000060796738\n",
      "\n",
      " \u001b[1;36m --------------- 10-way 2-shot --------------- \u001b[0m \n",
      "\n",
      "=== Epoch: 1 ===\n"
     ]
    },
    {
     "name": "stderr",
     "output_type": "stream",
     "text": [
      "100%|██████████| 500/500 [02:09<00:00,  3.86it/s]\n"
     ]
    },
    {
     "name": "stdout",
     "output_type": "stream",
     "text": [
      "Train Loss: 3.9020510742664336, Train Acc: 0.3673875053822994\n",
      "Val Loss: 1.929201773405075, Val Acc: 0.36644688111543655\n",
      "=== Epoch: 2 ===\n"
     ]
    },
    {
     "name": "stderr",
     "output_type": "stream",
     "text": [
      "100%|██████████| 500/500 [02:09<00:00,  3.86it/s]\n"
     ]
    },
    {
     "name": "stdout",
     "output_type": "stream",
     "text": [
      "Train Loss: 2.746218315243721, Train Acc: 0.4231968810111284\n",
      "Val Loss: 1.902222631573677, Val Acc: 0.38228281849622725\n",
      "=== Epoch: 3 ===\n"
     ]
    },
    {
     "name": "stderr",
     "output_type": "stream",
     "text": [
      "100%|██████████| 500/500 [02:09<00:00,  3.86it/s]\n"
     ]
    },
    {
     "name": "stdout",
     "output_type": "stream",
     "text": [
      "Train Loss: 2.300536768515905, Train Acc: 0.46757709100842476\n",
      "Val Loss: 1.925258009036382, Val Acc: 0.3949947978258133\n",
      "=== Epoch: 4 ===\n"
     ]
    },
    {
     "name": "stderr",
     "output_type": "stream",
     "text": [
      "100%|██████████| 500/500 [02:09<00:00,  3.86it/s]\n"
     ]
    },
    {
     "name": "stdout",
     "output_type": "stream",
     "text": [
      "Train Loss: 2.050670349955559, Train Acc: 0.5025382898971439\n",
      "Val Loss: 2.0010244446992873, Val Acc: 0.39766641245782375\n",
      "=== Epoch: 5 ===\n"
     ]
    },
    {
     "name": "stderr",
     "output_type": "stream",
     "text": [
      "100%|██████████| 500/500 [02:08<00:00,  3.88it/s]\n"
     ]
    },
    {
     "name": "stdout",
     "output_type": "stream",
     "text": [
      "Train Loss: 1.880064031124115, Train Acc: 0.5330443842828274\n",
      "Val Loss: 2.1545017256736756, Val Acc: 0.400632506108284\n",
      "Test Acc: 0.41218438154459\n",
      "\n",
      " \u001b[1;36m --------------- 10-way 4-shot --------------- \u001b[0m \n",
      "\n",
      "=== Epoch: 1 ===\n"
     ]
    },
    {
     "name": "stderr",
     "output_type": "stream",
     "text": [
      "100%|██████████| 500/500 [04:00<00:00,  2.08it/s]\n"
     ]
    },
    {
     "name": "stdout",
     "output_type": "stream",
     "text": [
      "Train Loss: 2.7292745084762573, Train Acc: 0.503382821381092\n",
      "Val Loss: 1.5689890491962433, Val Acc: 0.480023444712162\n",
      "=== Epoch: 2 ===\n"
     ]
    },
    {
     "name": "stderr",
     "output_type": "stream",
     "text": [
      "100%|██████████| 500/500 [04:00<00:00,  2.08it/s]\n"
     ]
    },
    {
     "name": "stdout",
     "output_type": "stream",
     "text": [
      "Train Loss: 1.8753194757699967, Train Acc: 0.5839867289960384\n",
      "Val Loss: 1.680466390490532, Val Acc: 0.48083438220620156\n",
      "=== Epoch: 3 ===\n"
     ]
    },
    {
     "name": "stderr",
     "output_type": "stream",
     "text": [
      " 24%|██▍       | 120/500 [00:59<03:07,  2.03it/s]\n"
     ]
    },
    {
     "ename": "RuntimeError",
     "evalue": "ignored",
     "output_type": "error",
     "traceback": [
      "\u001b[0;31m---------------------------------------------------------------------------\u001b[0m",
      "\u001b[0;31mRuntimeError\u001b[0m                              Traceback (most recent call last)",
      "\u001b[0;32m<ipython-input-34-ea618079f614>\u001b[0m in \u001b[0;36m<module>\u001b[0;34m()\u001b[0m\n\u001b[1;32m      3\u001b[0m \u001b[0;32mfor\u001b[0m \u001b[0mshot\u001b[0m \u001b[0;32min\u001b[0m \u001b[0mshots\u001b[0m\u001b[0;34m:\u001b[0m\u001b[0;34m\u001b[0m\u001b[0;34m\u001b[0m\u001b[0m\n\u001b[1;32m      4\u001b[0m     \u001b[0mprint\u001b[0m\u001b[0;34m(\u001b[0m\u001b[0;34m\"\\n \\033[1;36m --------------- 10-way {}-shot --------------- \\033[0m \\n\"\u001b[0m\u001b[0;34m.\u001b[0m\u001b[0mformat\u001b[0m\u001b[0;34m(\u001b[0m\u001b[0mshot\u001b[0m\u001b[0;34m)\u001b[0m\u001b[0;34m)\u001b[0m\u001b[0;34m\u001b[0m\u001b[0;34m\u001b[0m\u001b[0m\n\u001b[0;32m----> 5\u001b[0;31m     \u001b[0m_\u001b[0m\u001b[0;34m,\u001b[0m \u001b[0macc\u001b[0m \u001b[0;34m=\u001b[0m \u001b[0mtrain_test\u001b[0m\u001b[0;34m(\u001b[0m\u001b[0mmodel\u001b[0m\u001b[0;34m=\u001b[0m\u001b[0;32mNone\u001b[0m\u001b[0;34m,\u001b[0m \u001b[0mN_tr\u001b[0m\u001b[0;34m=\u001b[0m\u001b[0;36m10\u001b[0m\u001b[0;34m,\u001b[0m \u001b[0mK_tr\u001b[0m\u001b[0;34m=\u001b[0m\u001b[0mshot\u001b[0m\u001b[0;34m,\u001b[0m \u001b[0mQ_tr\u001b[0m\u001b[0;34m=\u001b[0m\u001b[0mshot\u001b[0m\u001b[0;34m,\u001b[0m \u001b[0mN_ts\u001b[0m\u001b[0;34m=\u001b[0m\u001b[0;36m10\u001b[0m\u001b[0;34m,\u001b[0m \u001b[0mK_ts\u001b[0m\u001b[0;34m=\u001b[0m\u001b[0mshot\u001b[0m\u001b[0;34m,\u001b[0m \u001b[0mQ_ts\u001b[0m\u001b[0;34m=\u001b[0m\u001b[0mshot\u001b[0m\u001b[0;34m)\u001b[0m\u001b[0;34m\u001b[0m\u001b[0;34m\u001b[0m\u001b[0m\n\u001b[0m\u001b[1;32m      6\u001b[0m     \u001b[0maccs_10way_xshot\u001b[0m\u001b[0;34m.\u001b[0m\u001b[0mappend\u001b[0m\u001b[0;34m(\u001b[0m\u001b[0macc\u001b[0m\u001b[0;34m)\u001b[0m\u001b[0;34m\u001b[0m\u001b[0;34m\u001b[0m\u001b[0m\n\u001b[1;32m      7\u001b[0m \u001b[0mplt\u001b[0m\u001b[0;34m.\u001b[0m\u001b[0mplot\u001b[0m\u001b[0;34m(\u001b[0m\u001b[0mshots\u001b[0m\u001b[0;34m,\u001b[0m \u001b[0maccs_10way_xshot\u001b[0m\u001b[0;34m)\u001b[0m\u001b[0;34m\u001b[0m\u001b[0;34m\u001b[0m\u001b[0m\n",
      "\u001b[0;32m<ipython-input-31-d16c92190674>\u001b[0m in \u001b[0;36mtrain_test\u001b[0;34m(model, N_tr, K_tr, Q_tr, N_ts, K_ts, Q_ts)\u001b[0m\n\u001b[1;32m     57\u001b[0m                 \u001b[0moptim\u001b[0m\u001b[0;34m.\u001b[0m\u001b[0mstep\u001b[0m\u001b[0;34m(\u001b[0m\u001b[0;34m)\u001b[0m\u001b[0;34m\u001b[0m\u001b[0;34m\u001b[0m\u001b[0m\n\u001b[1;32m     58\u001b[0m \u001b[0;34m\u001b[0m\u001b[0m\n\u001b[0;32m---> 59\u001b[0;31m                 \u001b[0mtrain_loss\u001b[0m\u001b[0;34m.\u001b[0m\u001b[0mappend\u001b[0m\u001b[0;34m(\u001b[0m\u001b[0mloss\u001b[0m\u001b[0;34m.\u001b[0m\u001b[0mitem\u001b[0m\u001b[0;34m(\u001b[0m\u001b[0;34m)\u001b[0m\u001b[0;34m)\u001b[0m\u001b[0;34m\u001b[0m\u001b[0;34m\u001b[0m\u001b[0m\n\u001b[0m\u001b[1;32m     60\u001b[0m                 \u001b[0mtrain_acc\u001b[0m\u001b[0;34m.\u001b[0m\u001b[0mappend\u001b[0m\u001b[0;34m(\u001b[0m\u001b[0macc\u001b[0m\u001b[0;34m.\u001b[0m\u001b[0mitem\u001b[0m\u001b[0;34m(\u001b[0m\u001b[0;34m)\u001b[0m\u001b[0;34m)\u001b[0m\u001b[0;34m\u001b[0m\u001b[0;34m\u001b[0m\u001b[0m\n\u001b[1;32m     61\u001b[0m \u001b[0;34m\u001b[0m\u001b[0m\n",
      "\u001b[0;31mRuntimeError\u001b[0m: CUDA error: unknown error\nCUDA kernel errors might be asynchronously reported at some other API call,so the stacktrace below might be incorrect.\nFor debugging consider passing CUDA_LAUNCH_BLOCKING=1."
     ]
    }
   ],
   "source": [
    "shots = [1, 2, 4, 8, 16]\n",
    "accs_10way_xshot = []\n",
    "for shot in shots:\n",
    "    print(\"\\n \\033[1;36m --------------- 10-way {}-shot --------------- \\033[0m \\n\".format(shot))\n",
    "    _, acc = train_test(model=None, N_tr=10, K_tr=shot, Q_tr=shot, N_ts=10, K_ts=shot, Q_ts=shot)\n",
    "    accs_10way_xshot.append(acc)"
   ]
  },
  {
   "cell_type": "code",
   "execution_count": null,
   "id": "x7Qcx6d69GiT",
   "metadata": {
    "colab": {
     "base_uri": "https://localhost:8080/",
     "height": 1000
    },
    "id": "x7Qcx6d69GiT",
    "outputId": "9413859d-fde9-4cc9-ec3b-10572884da1a"
   },
   "outputs": [
    {
     "name": "stdout",
     "output_type": "stream",
     "text": [
      "\n",
      " \u001b[1;36m --------------- 10-way 4-shot --------------- \u001b[0m \n",
      "\n",
      "=== Epoch: 1 ===\n"
     ]
    },
    {
     "name": "stderr",
     "output_type": "stream",
     "text": [
      "100%|██████████| 500/500 [01:59<00:00,  4.18it/s]\n"
     ]
    },
    {
     "name": "stdout",
     "output_type": "stream",
     "text": [
      "Train Loss: 2.4334900081157684, Train Acc: 0.5061656348705291\n",
      "Val Loss: 1.6656977939605713, Val Acc: 0.4556734436750412\n",
      "=== Epoch: 2 ===\n"
     ]
    },
    {
     "name": "stderr",
     "output_type": "stream",
     "text": [
      "100%|██████████| 500/500 [02:02<00:00,  4.09it/s]\n"
     ]
    },
    {
     "name": "stdout",
     "output_type": "stream",
     "text": [
      "Train Loss: 1.7111666682958604, Train Acc: 0.5875531358718872\n",
      "Val Loss: 1.7498662178516389, Val Acc: 0.4557101624011993\n",
      "=== Epoch: 3 ===\n"
     ]
    },
    {
     "name": "stderr",
     "output_type": "stream",
     "text": [
      "100%|██████████| 500/500 [02:02<00:00,  4.09it/s]\n"
     ]
    },
    {
     "name": "stdout",
     "output_type": "stream",
     "text": [
      "Train Loss: 1.4010808212359747, Train Acc: 0.6416328234672546\n",
      "Val Loss: 1.889686593135198, Val Acc: 0.4563770893017451\n",
      "=== Epoch: 4 ===\n"
     ]
    },
    {
     "name": "stderr",
     "output_type": "stream",
     "text": [
      "100%|██████████| 500/500 [02:02<00:00,  4.09it/s]\n"
     ]
    },
    {
     "name": "stdout",
     "output_type": "stream",
     "text": [
      "Train Loss: 1.2200651787370442, Train Acc: 0.6809500111341477\n",
      "Val Loss: 2.062238222539425, Val Acc: 0.45675742779672146\n",
      "=== Epoch: 5 ===\n"
     ]
    },
    {
     "name": "stderr",
     "output_type": "stream",
     "text": [
      "100%|██████████| 500/500 [02:02<00:00,  4.08it/s]\n"
     ]
    },
    {
     "name": "stdout",
     "output_type": "stream",
     "text": [
      "Train Loss: 1.1076082481384277, Train Acc: 0.7106684490203857\n",
      "Val Loss: 2.3909513850688935, Val Acc: 0.4567140684008598\n",
      "Test Acc: 0.4573078188896179\n",
      "\n",
      " \u001b[1;36m --------------- 10-way 8-shot --------------- \u001b[0m \n",
      "\n",
      "=== Epoch: 1 ===\n"
     ]
    },
    {
     "name": "stderr",
     "output_type": "stream",
     "text": [
      "100%|██████████| 500/500 [03:56<00:00,  2.12it/s]\n"
     ]
    },
    {
     "name": "stdout",
     "output_type": "stream",
     "text": [
      "Train Loss: 1.557012492418289, Train Acc: 0.6143429798483848\n",
      "Val Loss: 1.4980509865283966, Val Acc: 0.524736729979515\n",
      "=== Epoch: 2 ===\n"
     ]
    },
    {
     "name": "stderr",
     "output_type": "stream",
     "text": [
      "100%|██████████| 500/500 [03:59<00:00,  2.09it/s]\n"
     ]
    },
    {
     "name": "stdout",
     "output_type": "stream",
     "text": [
      "Train Loss: 1.0692554189264774, Train Acc: 0.7079011832177639\n",
      "Val Loss: 1.7419520989656447, Val Acc: 0.5155671979188919\n",
      "=== Epoch: 3 ===\n"
     ]
    },
    {
     "name": "stderr",
     "output_type": "stream",
     "text": [
      "100%|██████████| 500/500 [03:59<00:00,  2.09it/s]\n"
     ]
    },
    {
     "name": "stdout",
     "output_type": "stream",
     "text": [
      "Train Loss: 0.845307846903801, Train Acc: 0.7630065221587817\n",
      "Val Loss: 1.9712654794851938, Val Acc: 0.5114968849817911\n",
      "=== Epoch: 4 ===\n"
     ]
    },
    {
     "name": "stderr",
     "output_type": "stream",
     "text": [
      "100%|██████████| 500/500 [03:59<00:00,  2.09it/s]\n"
     ]
    },
    {
     "name": "stdout",
     "output_type": "stream",
     "text": [
      "Train Loss: 0.7161047545075416, Train Acc: 0.7990250120908022\n",
      "Val Loss: 2.366900453031063, Val Acc: 0.5076937596350908\n",
      "=== Epoch: 5 ===\n"
     ]
    },
    {
     "name": "stderr",
     "output_type": "stream",
     "text": [
      "100%|██████████| 500/500 [03:58<00:00,  2.09it/s]\n"
     ]
    },
    {
     "name": "stdout",
     "output_type": "stream",
     "text": [
      "Train Loss: 0.6339175264000892, Train Acc: 0.8242312622189522\n",
      "Val Loss: 2.690688699102402, Val Acc: 0.5047595404267311\n",
      "Test Acc: 0.4922859449386597\n",
      "\n",
      " \u001b[1;36m --------------- 10-way 16-shot --------------- \u001b[0m \n",
      "\n",
      "=== Epoch: 1 ===\n"
     ]
    },
    {
     "name": "stderr",
     "output_type": "stream",
     "text": [
      "  0%|          | 0/500 [00:00<?, ?it/s]\n"
     ]
    },
    {
     "ename": "RuntimeError",
     "evalue": "ignored",
     "output_type": "error",
     "traceback": [
      "\u001b[0;31m---------------------------------------------------------------------------\u001b[0m",
      "\u001b[0;31mRuntimeError\u001b[0m                              Traceback (most recent call last)",
      "\u001b[0;32m<ipython-input-11-a440b366882d>\u001b[0m in \u001b[0;36m<module>\u001b[0;34m()\u001b[0m\n\u001b[1;32m      3\u001b[0m \u001b[0;32mfor\u001b[0m \u001b[0mshot\u001b[0m \u001b[0;32min\u001b[0m \u001b[0mshots\u001b[0m\u001b[0;34m:\u001b[0m\u001b[0;34m\u001b[0m\u001b[0;34m\u001b[0m\u001b[0m\n\u001b[1;32m      4\u001b[0m     \u001b[0mprint\u001b[0m\u001b[0;34m(\u001b[0m\u001b[0;34m\"\\n \\033[1;36m --------------- 10-way {}-shot --------------- \\033[0m \\n\"\u001b[0m\u001b[0;34m.\u001b[0m\u001b[0mformat\u001b[0m\u001b[0;34m(\u001b[0m\u001b[0mshot\u001b[0m\u001b[0;34m)\u001b[0m\u001b[0;34m)\u001b[0m\u001b[0;34m\u001b[0m\u001b[0;34m\u001b[0m\u001b[0m\n\u001b[0;32m----> 5\u001b[0;31m     \u001b[0m_\u001b[0m\u001b[0;34m,\u001b[0m \u001b[0macc\u001b[0m \u001b[0;34m=\u001b[0m \u001b[0mtrain_test\u001b[0m\u001b[0;34m(\u001b[0m\u001b[0mmodel\u001b[0m\u001b[0;34m=\u001b[0m\u001b[0;32mNone\u001b[0m\u001b[0;34m,\u001b[0m \u001b[0mN_tr\u001b[0m\u001b[0;34m=\u001b[0m\u001b[0;36m10\u001b[0m\u001b[0;34m,\u001b[0m \u001b[0mK_tr\u001b[0m\u001b[0;34m=\u001b[0m\u001b[0mshot\u001b[0m\u001b[0;34m,\u001b[0m \u001b[0mQ_tr\u001b[0m\u001b[0;34m=\u001b[0m\u001b[0mshot\u001b[0m\u001b[0;34m,\u001b[0m \u001b[0mN_ts\u001b[0m\u001b[0;34m=\u001b[0m\u001b[0;36m10\u001b[0m\u001b[0;34m,\u001b[0m \u001b[0mK_ts\u001b[0m\u001b[0;34m=\u001b[0m\u001b[0mshot\u001b[0m\u001b[0;34m,\u001b[0m \u001b[0mQ_ts\u001b[0m\u001b[0;34m=\u001b[0m\u001b[0mshot\u001b[0m\u001b[0;34m)\u001b[0m\u001b[0;34m\u001b[0m\u001b[0;34m\u001b[0m\u001b[0m\n\u001b[0m\u001b[1;32m      6\u001b[0m     \u001b[0maccs_10way_4_8_16shot\u001b[0m\u001b[0;34m.\u001b[0m\u001b[0mappend\u001b[0m\u001b[0;34m(\u001b[0m\u001b[0macc\u001b[0m\u001b[0;34m)\u001b[0m\u001b[0;34m\u001b[0m\u001b[0;34m\u001b[0m\u001b[0m\n",
      "\u001b[0;32m<ipython-input-10-d16c92190674>\u001b[0m in \u001b[0;36mtrain_test\u001b[0;34m(model, N_tr, K_tr, Q_tr, N_ts, K_ts, Q_ts)\u001b[0m\n\u001b[1;32m     53\u001b[0m                 \u001b[0moutputs\u001b[0m \u001b[0;34m=\u001b[0m \u001b[0mmodel\u001b[0m\u001b[0;34m(\u001b[0m\u001b[0minputs\u001b[0m\u001b[0;34m)\u001b[0m\u001b[0;34m\u001b[0m\u001b[0;34m\u001b[0m\u001b[0m\n\u001b[1;32m     54\u001b[0m                 \u001b[0mloss\u001b[0m\u001b[0;34m,\u001b[0m \u001b[0macc\u001b[0m \u001b[0;34m=\u001b[0m \u001b[0mloss_fn\u001b[0m\u001b[0;34m(\u001b[0m\u001b[0moutputs\u001b[0m\u001b[0;34m,\u001b[0m \u001b[0mlabels\u001b[0m\u001b[0;34m,\u001b[0m \u001b[0mN_tr\u001b[0m\u001b[0;34m,\u001b[0m \u001b[0mK_tr\u001b[0m\u001b[0;34m,\u001b[0m \u001b[0mQ_tr\u001b[0m\u001b[0;34m)\u001b[0m\u001b[0;34m\u001b[0m\u001b[0;34m\u001b[0m\u001b[0m\n\u001b[0;32m---> 55\u001b[0;31m                 \u001b[0mloss\u001b[0m\u001b[0;34m.\u001b[0m\u001b[0mbackward\u001b[0m\u001b[0;34m(\u001b[0m\u001b[0;34m)\u001b[0m\u001b[0;34m\u001b[0m\u001b[0;34m\u001b[0m\u001b[0m\n\u001b[0m\u001b[1;32m     56\u001b[0m \u001b[0;34m\u001b[0m\u001b[0m\n\u001b[1;32m     57\u001b[0m                 \u001b[0moptim\u001b[0m\u001b[0;34m.\u001b[0m\u001b[0mstep\u001b[0m\u001b[0;34m(\u001b[0m\u001b[0;34m)\u001b[0m\u001b[0;34m\u001b[0m\u001b[0;34m\u001b[0m\u001b[0m\n",
      "\u001b[0;32m/usr/local/lib/python3.7/dist-packages/torch/_tensor.py\u001b[0m in \u001b[0;36mbackward\u001b[0;34m(self, gradient, retain_graph, create_graph, inputs)\u001b[0m\n\u001b[1;32m    305\u001b[0m                 \u001b[0mcreate_graph\u001b[0m\u001b[0;34m=\u001b[0m\u001b[0mcreate_graph\u001b[0m\u001b[0;34m,\u001b[0m\u001b[0;34m\u001b[0m\u001b[0;34m\u001b[0m\u001b[0m\n\u001b[1;32m    306\u001b[0m                 inputs=inputs)\n\u001b[0;32m--> 307\u001b[0;31m         \u001b[0mtorch\u001b[0m\u001b[0;34m.\u001b[0m\u001b[0mautograd\u001b[0m\u001b[0;34m.\u001b[0m\u001b[0mbackward\u001b[0m\u001b[0;34m(\u001b[0m\u001b[0mself\u001b[0m\u001b[0;34m,\u001b[0m \u001b[0mgradient\u001b[0m\u001b[0;34m,\u001b[0m \u001b[0mretain_graph\u001b[0m\u001b[0;34m,\u001b[0m \u001b[0mcreate_graph\u001b[0m\u001b[0;34m,\u001b[0m \u001b[0minputs\u001b[0m\u001b[0;34m=\u001b[0m\u001b[0minputs\u001b[0m\u001b[0;34m)\u001b[0m\u001b[0;34m\u001b[0m\u001b[0;34m\u001b[0m\u001b[0m\n\u001b[0m\u001b[1;32m    308\u001b[0m \u001b[0;34m\u001b[0m\u001b[0m\n\u001b[1;32m    309\u001b[0m     \u001b[0;32mdef\u001b[0m \u001b[0mregister_hook\u001b[0m\u001b[0;34m(\u001b[0m\u001b[0mself\u001b[0m\u001b[0;34m,\u001b[0m \u001b[0mhook\u001b[0m\u001b[0;34m)\u001b[0m\u001b[0;34m:\u001b[0m\u001b[0;34m\u001b[0m\u001b[0;34m\u001b[0m\u001b[0m\n",
      "\u001b[0;32m/usr/local/lib/python3.7/dist-packages/torch/autograd/__init__.py\u001b[0m in \u001b[0;36mbackward\u001b[0;34m(tensors, grad_tensors, retain_graph, create_graph, grad_variables, inputs)\u001b[0m\n\u001b[1;32m    154\u001b[0m     Variable._execution_engine.run_backward(\n\u001b[1;32m    155\u001b[0m         \u001b[0mtensors\u001b[0m\u001b[0;34m,\u001b[0m \u001b[0mgrad_tensors_\u001b[0m\u001b[0;34m,\u001b[0m \u001b[0mretain_graph\u001b[0m\u001b[0;34m,\u001b[0m \u001b[0mcreate_graph\u001b[0m\u001b[0;34m,\u001b[0m \u001b[0minputs\u001b[0m\u001b[0;34m,\u001b[0m\u001b[0;34m\u001b[0m\u001b[0;34m\u001b[0m\u001b[0m\n\u001b[0;32m--> 156\u001b[0;31m         allow_unreachable=True, accumulate_grad=True)  # allow_unreachable flag\n\u001b[0m\u001b[1;32m    157\u001b[0m \u001b[0;34m\u001b[0m\u001b[0m\n\u001b[1;32m    158\u001b[0m \u001b[0;34m\u001b[0m\u001b[0m\n",
      "\u001b[0;31mRuntimeError\u001b[0m: CUDA out of memory. Tried to allocate 2.50 GiB (GPU 0; 14.76 GiB total capacity; 7.02 GiB already allocated; 2.37 GiB free; 11.06 GiB reserved in total by PyTorch) If reserved memory is >> allocated memory try setting max_split_size_mb to avoid fragmentation.  See documentation for Memory Management and PYTORCH_CUDA_ALLOC_CONF"
     ]
    }
   ],
   "source": [
    "shots = [4, 8, 16]\n",
    "accs_10way_4_8_16shot = []\n",
    "for shot in shots:\n",
    "    print(\"\\n \\033[1;36m --------------- 10-way {}-shot --------------- \\033[0m \\n\".format(shot))\n",
    "    _, acc = train_test(model=None, N_tr=10, K_tr=shot, Q_tr=shot, N_ts=10, K_ts=shot, Q_ts=shot)\n",
    "    accs_10way_4_8_16shot.append(acc)"
   ]
  },
  {
   "cell_type": "code",
   "execution_count": 20,
   "id": "FD6yxvECJ4GS",
   "metadata": {
    "colab": {
     "base_uri": "https://localhost:8080/"
    },
    "id": "FD6yxvECJ4GS",
    "outputId": "df20ad2e-5a14-4398-b2e4-ebfd4b505159"
   },
   "outputs": [
    {
     "name": "stdout",
     "output_type": "stream",
     "text": [
      "\n",
      " \u001b[1;36m --------------- 10-way 16-shot --------------- \u001b[0m \n",
      "\n",
      "=== Epoch: 1 ===\n"
     ]
    },
    {
     "name": "stderr",
     "output_type": "stream",
     "text": [
      "100%|██████████| 500/500 [07:40<00:00,  1.09it/s]\n"
     ]
    },
    {
     "name": "stdout",
     "output_type": "stream",
     "text": [
      "Train Loss: 1.4019836647510528, Train Acc: 0.6564086043238639\n",
      "Val Loss: 1.4526196014881134, Val Acc: 0.5398343865871429\n",
      "=== Epoch: 2 ===\n"
     ]
    },
    {
     "name": "stderr",
     "output_type": "stream",
     "text": [
      "100%|██████████| 500/500 [07:40<00:00,  1.09it/s]\n"
     ]
    },
    {
     "name": "stdout",
     "output_type": "stream",
     "text": [
      "Train Loss: 0.959437124401331, Train Acc: 0.7440914179980754\n",
      "Val Loss: 1.7050571439266204, Val Acc: 0.5333632936775684\n",
      "=== Epoch: 3 ===\n"
     ]
    },
    {
     "name": "stderr",
     "output_type": "stream",
     "text": [
      "100%|██████████| 500/500 [07:41<00:00,  1.08it/s]\n"
     ]
    },
    {
     "name": "stdout",
     "output_type": "stream",
     "text": [
      "Train Loss: 0.7481446996231874, Train Acc: 0.795235168437163\n",
      "Val Loss: 1.9200535941123962, Val Acc: 0.5328528765837351\n",
      "=== Epoch: 4 ===\n"
     ]
    },
    {
     "name": "stderr",
     "output_type": "stream",
     "text": [
      "100%|██████████| 500/500 [07:41<00:00,  1.08it/s]\n"
     ]
    },
    {
     "name": "stdout",
     "output_type": "stream",
     "text": [
      "Train Loss: 0.6228386105448007, Train Acc: 0.8285554809123278\n",
      "Val Loss: 2.1271838631629945, Val Acc: 0.5321800896674395\n",
      "=== Epoch: 5 ===\n"
     ]
    },
    {
     "name": "stderr",
     "output_type": "stream",
     "text": [
      "100%|██████████| 500/500 [07:41<00:00,  1.08it/s]\n"
     ]
    },
    {
     "name": "stdout",
     "output_type": "stream",
     "text": [
      "Train Loss: 0.537751970410347, Train Acc: 0.8520359492182732\n",
      "Val Loss: 2.307511975479126, Val Acc: 0.5316934492826462\n",
      "Test Acc: 0.530248448729515\n"
     ]
    }
   ],
   "source": [
    "shots = [16]\n",
    "accs_10way_16shot = []\n",
    "for shot in shots:\n",
    "    print(\"\\n \\033[1;36m --------------- 10-way {}-shot --------------- \\033[0m \\n\".format(shot))\n",
    "    _, acc = train_test(model=None, N_tr=10, K_tr=shot, Q_tr=shot, N_ts=10, K_ts=shot, Q_ts=shot)\n",
    "    accs_10way_16shot.append(acc)\n"
   ]
  },
  {
   "cell_type": "code",
   "execution_count": 27,
   "id": "QMBm_TTCdqfq",
   "metadata": {
    "colab": {
     "base_uri": "https://localhost:8080/",
     "height": 295
    },
    "id": "QMBm_TTCdqfq",
    "outputId": "05acd03e-327d-412b-a3a9-becd41a133a9"
   },
   "outputs": [
    {
     "data": {
      "image/png": "[encoded data removed]",
      "text/plain": [
       "<Figure size 432x288 with 1 Axes>"
      ]
     },
     "metadata": {
      "needs_background": "light"
     },
     "output_type": "display_data"
    }
   ],
   "source": [
    "shots = [1, 2, 4, 8, 16]\n",
    "test_accs = [0.3405, 0.41218438154459, 0.4573078188896179, 0.4922859449386597, 0.530248448729515]\n",
    "plt.plot(shots, test_accs)\n",
    "plt.xlabel(\"shots\")\n",
    "plt.xticks(shots, shots)\n",
    "plt.ylabel(\"Test Accuracy\")\n",
    "_ = plt.title(\"10-way x-shot\")"
   ]
  },
  {
   "cell_type": "markdown",
   "id": "moving-situation",
   "metadata": {
    "id": "moving-situation"
   },
   "source": [
    "## x-way 5-shot"
   ]
  },
  {
   "cell_type": "code",
   "execution_count": 34,
   "id": "recovered-password",
   "metadata": {
    "colab": {
     "base_uri": "https://localhost:8080/",
     "height": 1000
    },
    "id": "recovered-password",
    "outputId": "6bd812fa-7e56-4d92-8a22-0f4594745e98"
   },
   "outputs": [
    {
     "metadata": {
      "tags": null
     },
     "name": "stdout",
     "output_type": "stream",
     "text": [
      "\n",
      "--------------- 2-way 5-shot ---------------\n",
      "\n",
      "=== Epoch: 1 ===\n"
     ]
    },
    {
     "metadata": {
      "tags": null
     },
     "name": "stderr",
     "output_type": "stream",
     "text": [
      "100%|██████████| 500/500 [00:40<00:00, 12.36it/s]\n"
     ]
    },
    {
     "metadata": {
      "tags": null
     },
     "name": "stdout",
     "output_type": "stream",
     "text": [
      "Train Loss: 2.3163123465180395, Train Acc: 0.769550012588501\n",
      "Val Loss: 0.561148843228817, Val Acc: 0.7665875113010406\n",
      "=== Epoch: 2 ===\n"
     ]
    },
    {
     "metadata": {
      "tags": null
     },
     "name": "stderr",
     "output_type": "stream",
     "text": [
      "100%|██████████| 500/500 [00:40<00:00, 12.37it/s]\n"
     ]
    },
    {
     "metadata": {
      "tags": null
     },
     "name": "stdout",
     "output_type": "stream",
     "text": [
      "Train Loss: 1.4200590221136808, Train Acc: 0.7843875118494034\n",
      "Val Loss: 0.5218373962938786, Val Acc: 0.7778750123381615\n",
      "=== Epoch: 3 ===\n"
     ]
    },
    {
     "metadata": {
      "tags": null
     },
     "name": "stderr",
     "output_type": "stream",
     "text": [
      "100%|██████████| 500/500 [00:40<00:00, 12.37it/s]\n"
     ]
    },
    {
     "metadata": {
      "tags": null
     },
     "name": "stdout",
     "output_type": "stream",
     "text": [
      "Train Loss: 1.0887448186874389, Train Acc: 0.7984291785160701\n",
      "Val Loss: 0.4914064271946748, Val Acc: 0.7880500120321909\n",
      "=== Epoch: 4 ===\n"
     ]
    },
    {
     "metadata": {
      "tags": null
     },
     "name": "stderr",
     "output_type": "stream",
     "text": [
      "100%|██████████| 500/500 [00:40<00:00, 12.33it/s]\n"
     ]
    },
    {
     "metadata": {
      "tags": null
     },
     "name": "stdout",
     "output_type": "stream",
     "text": [
      "Train Loss: 0.9148705079257489, Train Acc: 0.8090718867778778\n",
      "Val Loss: 0.47232301443815233, Val Acc: 0.7933031368553638\n",
      "=== Epoch: 5 ===\n"
     ]
    },
    {
     "metadata": {
      "tags": null
     },
     "name": "stderr",
     "output_type": "stream",
     "text": [
      "100%|██████████| 500/500 [00:40<00:00, 12.37it/s]\n"
     ]
    },
    {
     "metadata": {
      "tags": null
     },
     "name": "stdout",
     "output_type": "stream",
     "text": [
      "Train Loss: 0.804687932497263, Train Acc: 0.8186200118780136\n",
      "Val Loss: 0.4632789882004261, Val Acc: 0.7960350119113923\n",
      "Test Acc: 0.37704499101638794\n",
      "\n",
      "--------------- 4-way 5-shot ---------------\n",
      "\n",
      "=== Epoch: 1 ===\n"
     ]
    },
    {
     "metadata": {
      "tags": null
     },
     "name": "stderr",
     "output_type": "stream",
     "text": [
      "100%|██████████| 500/500 [01:09<00:00,  7.20it/s]\n"
     ]
    },
    {
     "metadata": {
      "tags": null
     },
     "name": "stdout",
     "output_type": "stream",
     "text": [
      "Train Loss: 2.5299346914291383, Train Acc: 0.6223062628507614\n",
      "Val Loss: 1.049308232307434, Val Acc: 0.607443761587143\n",
      "=== Epoch: 2 ===\n"
     ]
    },
    {
     "metadata": {
      "tags": null
     },
     "name": "stderr",
     "output_type": "stream",
     "text": [
      "100%|██████████| 500/500 [01:09<00:00,  7.19it/s]\n"
     ]
    },
    {
     "metadata": {
      "tags": null
     },
     "name": "stdout",
     "output_type": "stream",
     "text": [
      "Train Loss: 1.6917831877470015, Train Acc: 0.6620625120401382\n",
      "Val Loss: 1.0288673897385596, Val Acc: 0.6120468865036964\n",
      "=== Epoch: 3 ===\n"
     ]
    },
    {
     "metadata": {
      "tags": null
     },
     "name": "stderr",
     "output_type": "stream",
     "text": [
      "100%|██████████| 500/500 [01:09<00:00,  7.19it/s]\n"
     ]
    },
    {
     "metadata": {
      "tags": null
     },
     "name": "stdout",
     "output_type": "stream",
     "text": [
      "Train Loss: 1.3575670099854469, Train Acc: 0.6939500121275584\n",
      "Val Loss: 0.983660722454389, Val Acc: 0.6275437619686127\n",
      "=== Epoch: 4 ===\n"
     ]
    },
    {
     "metadata": {
      "tags": null
     },
     "name": "stderr",
     "output_type": "stream",
     "text": [
      "100%|██████████| 500/500 [01:09<00:00,  7.19it/s]\n"
     ]
    },
    {
     "metadata": {
      "tags": null
     },
     "name": "stdout",
     "output_type": "stream",
     "text": [
      "Train Loss: 1.1725277248024941, Train Acc: 0.7173468873500825\n",
      "Val Loss: 0.9725181518793106, Val Acc: 0.6355000117719174\n",
      "=== Epoch: 5 ===\n"
     ]
    },
    {
     "metadata": {
      "tags": null
     },
     "name": "stderr",
     "output_type": "stream",
     "text": [
      "100%|██████████| 500/500 [01:09<00:00,  7.19it/s]\n"
     ]
    },
    {
     "metadata": {
      "tags": null
     },
     "name": "stdout",
     "output_type": "stream",
     "text": [
      "Train Loss: 1.0508573695898056, Train Acc: 0.7356775121688843\n",
      "Val Loss: 0.9626785023927689, Val Acc: 0.6448187618970871\n",
      "Test Acc: 0.4557149892449379\n",
      "\n",
      "--------------- 8-way 5-shot ---------------\n",
      "\n",
      "=== Epoch: 1 ===\n"
     ]
    },
    {
     "metadata": {
      "tags": null
     },
     "name": "stderr",
     "output_type": "stream",
     "text": [
      "100%|██████████| 500/500 [02:07<00:00,  3.92it/s]\n"
     ]
    },
    {
     "metadata": {
      "tags": null
     },
     "name": "stdout",
     "output_type": "stream",
     "text": [
      "Train Loss: 3.0188203778266907, Train Acc: 0.5140937602519989\n",
      "Val Loss: 1.560412429332733, Val Acc: 0.4714062556028366\n",
      "=== Epoch: 2 ===\n"
     ]
    },
    {
     "metadata": {
      "tags": null
     },
     "name": "stderr",
     "output_type": "stream",
     "text": [
      "100%|██████████| 500/500 [02:07<00:00,  3.92it/s]\n"
     ]
    },
    {
     "metadata": {
      "tags": null
     },
     "name": "stdout",
     "output_type": "stream",
     "text": [
      "Train Loss: 2.056741349220276, Train Acc: 0.5795453233718872\n",
      "Val Loss: 1.5314602891206741, Val Acc: 0.4880421948730946\n",
      "=== Epoch: 3 ===\n"
     ]
    },
    {
     "metadata": {
      "tags": null
     },
     "name": "stderr",
     "output_type": "stream",
     "text": [
      "100%|██████████| 500/500 [02:07<00:00,  3.93it/s]\n"
     ]
    },
    {
     "metadata": {
      "tags": null
     },
     "name": "stdout",
     "output_type": "stream",
     "text": [
      "Train Loss: 1.660739570816358, Train Acc: 0.6255375111897786\n",
      "Val Loss: 1.4966796896457673, Val Acc: 0.5014666756391525\n",
      "=== Epoch: 4 ===\n"
     ]
    },
    {
     "metadata": {
      "tags": null
     },
     "name": "stderr",
     "output_type": "stream",
     "text": [
      "100%|██████████| 500/500 [02:07<00:00,  3.93it/s]\n"
     ]
    },
    {
     "metadata": {
      "tags": null
     },
     "name": "stdout",
     "output_type": "stream",
     "text": [
      "Train Loss: 1.4259829416722059, Train Acc: 0.6606773551106453\n",
      "Val Loss: 1.6456875405907632, Val Acc: 0.5017125091552734\n",
      "=== Epoch: 5 ===\n"
     ]
    },
    {
     "metadata": {
      "tags": null
     },
     "name": "stderr",
     "output_type": "stream",
     "text": [
      "100%|██████████| 500/500 [02:08<00:00,  3.91it/s]\n"
     ]
    },
    {
     "metadata": {
      "tags": null
     },
     "name": "stdout",
     "output_type": "stream",
     "text": [
      "Train Loss: 1.2786872265696525, Train Acc: 0.6867662615060807\n",
      "Val Loss: 1.666660415506363, Val Acc: 0.5046837595582009\n",
      "Test Acc: 0.4431824896931648\n",
      "\n",
      "--------------- 16-way 5-shot ---------------\n",
      "\n",
      "=== Epoch: 1 ===\n"
     ]
    },
    {
     "metadata": {
      "tags": null
     },
     "name": "stderr",
     "output_type": "stream",
     "text": [
      "100%|██████████| 500/500 [04:05<00:00,  2.03it/s]\n"
     ]
    },
    {
     "metadata": {
      "tags": null
     },
     "name": "stdout",
     "output_type": "stream",
     "text": [
      "Train Loss: 2.6933495819568636, Train Acc: 0.4428546946644783\n",
      "Val Loss: 2.0597226943969726, Val Acc: 0.35903594380617143\n",
      "=== Epoch: 2 ===\n"
     ]
    },
    {
     "metadata": {
      "tags": null
     },
     "name": "stderr",
     "output_type": "stream",
     "text": [
      "100%|██████████| 500/500 [04:06<00:00,  2.03it/s]\n"
     ]
    },
    {
     "metadata": {
      "tags": null
     },
     "name": "stdout",
     "output_type": "stream",
     "text": [
      "Train Loss: 1.9494090982079506, Train Acc: 0.5358609468638897\n",
      "Val Loss: 2.1660419890880585, Val Acc: 0.36503047502040864\n",
      "=== Epoch: 3 ===\n"
     ]
    },
    {
     "metadata": {
      "tags": null
     },
     "name": "stderr",
     "output_type": "stream",
     "text": [
      "100%|██████████| 500/500 [04:04<00:00,  2.04it/s]\n"
     ]
    },
    {
     "metadata": {
      "tags": null
     },
     "name": "stdout",
     "output_type": "stream",
     "text": [
      "Train Loss: 1.6045245827436447, Train Acc: 0.5998604271213214\n",
      "Val Loss: 2.400644223690033, Val Acc: 0.3666156312028567\n",
      "=== Epoch: 4 ===\n"
     ]
    },
    {
     "metadata": {
      "tags": null
     },
     "name": "stderr",
     "output_type": "stream",
     "text": [
      "100%|██████████| 500/500 [04:03<00:00,  2.05it/s]\n"
     ]
    },
    {
     "name": "stdout",
     "output_type": "stream",
     "text": [
      "Train Loss: 1.420179098635912, Train Acc: 0.6446300888508558\n",
      "Val Loss: 2.9463299094438553, Val Acc: 0.36727695931494236\n",
      "=== Epoch: 5 ===\n"
     ]
    },
    {
     "name": "stderr",
     "output_type": "stream",
     "text": [
      "100%|██████████| 500/500 [04:04<00:00,  2.05it/s]\n"
     ]
    },
    {
     "name": "stdout",
     "output_type": "stream",
     "text": [
      "Train Loss: 1.3344518563508987, Train Acc: 0.6775096986174584\n",
      "Val Loss: 3.7940362294197083, Val Acc: 0.36883156850337984\n",
      "Test Acc: 0.4344124902486801\n",
      "\n",
      "--------------- 32-way 5-shot ---------------\n",
      "\n",
      "=== Epoch: 1 ===\n"
     ]
    },
    {
     "name": "stderr",
     "output_type": "stream",
     "text": [
      "100%|██████████| 500/500 [08:08<00:00,  1.02it/s]"
     ]
    },
    {
     "name": "stdout",
     "output_type": "stream",
     "text": [
      "Train Loss: 3.099352857351303, Train Acc: 0.4041562570929527\n"
     ]
    },
    {
     "name": "stderr",
     "output_type": "stream",
     "text": [
      "\n"
     ]
    },
    {
     "ename": "ValueError",
     "evalue": "ignored",
     "output_type": "error",
     "traceback": [
      "\u001b[0;31m---------------------------------------------------------------------------\u001b[0m",
      "\u001b[0;31mValueError\u001b[0m                                Traceback (most recent call last)",
      "\u001b[0;32m<ipython-input-34-f52cc20ea6a1>\u001b[0m in \u001b[0;36m<module>\u001b[0;34m()\u001b[0m\n\u001b[1;32m      3\u001b[0m \u001b[0;32mfor\u001b[0m \u001b[0mway\u001b[0m \u001b[0;32min\u001b[0m \u001b[0mways\u001b[0m\u001b[0;34m:\u001b[0m\u001b[0;34m\u001b[0m\u001b[0;34m\u001b[0m\u001b[0m\n\u001b[1;32m      4\u001b[0m     \u001b[0mprint\u001b[0m\u001b[0;34m(\u001b[0m\u001b[0;34m\"\\n--------------- {}-way 5-shot ---------------\\n\"\u001b[0m\u001b[0;34m.\u001b[0m\u001b[0mformat\u001b[0m\u001b[0;34m(\u001b[0m\u001b[0mway\u001b[0m\u001b[0;34m)\u001b[0m\u001b[0;34m)\u001b[0m\u001b[0;34m\u001b[0m\u001b[0;34m\u001b[0m\u001b[0m\n\u001b[0;32m----> 5\u001b[0;31m     \u001b[0m_\u001b[0m\u001b[0;34m,\u001b[0m \u001b[0macc\u001b[0m \u001b[0;34m=\u001b[0m \u001b[0mtrain_test\u001b[0m\u001b[0;34m(\u001b[0m\u001b[0mmodel\u001b[0m\u001b[0;34m=\u001b[0m\u001b[0;32mNone\u001b[0m\u001b[0;34m,\u001b[0m \u001b[0mN_tr\u001b[0m\u001b[0;34m=\u001b[0m\u001b[0mway\u001b[0m\u001b[0;34m,\u001b[0m \u001b[0mK_tr\u001b[0m\u001b[0;34m=\u001b[0m\u001b[0;36m5\u001b[0m\u001b[0;34m,\u001b[0m \u001b[0mQ_tr\u001b[0m\u001b[0;34m=\u001b[0m\u001b[0;36m5\u001b[0m\u001b[0;34m,\u001b[0m \u001b[0mN_ts\u001b[0m\u001b[0;34m=\u001b[0m\u001b[0;36m10\u001b[0m\u001b[0;34m,\u001b[0m \u001b[0mK_ts\u001b[0m\u001b[0;34m=\u001b[0m\u001b[0;36m5\u001b[0m\u001b[0;34m,\u001b[0m \u001b[0mQ_ts\u001b[0m\u001b[0;34m=\u001b[0m\u001b[0;36m5\u001b[0m\u001b[0;34m)\u001b[0m\u001b[0;34m\u001b[0m\u001b[0;34m\u001b[0m\u001b[0m\n\u001b[0m\u001b[1;32m      6\u001b[0m     \u001b[0maccs_xway_5shot\u001b[0m\u001b[0;34m.\u001b[0m\u001b[0mappend\u001b[0m\u001b[0;34m(\u001b[0m\u001b[0macc\u001b[0m\u001b[0;34m)\u001b[0m\u001b[0;34m\u001b[0m\u001b[0;34m\u001b[0m\u001b[0m\n",
      "\u001b[0;32m<ipython-input-33-f630eec8a796>\u001b[0m in \u001b[0;36mtrain_test\u001b[0;34m(model, N_tr, K_tr, Q_tr, N_ts, K_ts, Q_ts)\u001b[0m\n\u001b[1;32m     70\u001b[0m             \u001b[0mmodel\u001b[0m\u001b[0;34m.\u001b[0m\u001b[0meval\u001b[0m\u001b[0;34m(\u001b[0m\u001b[0;34m)\u001b[0m\u001b[0;34m\u001b[0m\u001b[0;34m\u001b[0m\u001b[0m\n\u001b[1;32m     71\u001b[0m             \u001b[0;32mwith\u001b[0m \u001b[0mtorch\u001b[0m\u001b[0;34m.\u001b[0m\u001b[0mno_grad\u001b[0m\u001b[0;34m(\u001b[0m\u001b[0;34m)\u001b[0m\u001b[0;34m:\u001b[0m\u001b[0;34m\u001b[0m\u001b[0;34m\u001b[0m\u001b[0m\n\u001b[0;32m---> 72\u001b[0;31m                 \u001b[0;32mfor\u001b[0m \u001b[0minputs\u001b[0m\u001b[0;34m,\u001b[0m \u001b[0mlabels\u001b[0m \u001b[0;32min\u001b[0m \u001b[0miter\u001b[0m\u001b[0;34m(\u001b[0m\u001b[0mval_dataloader\u001b[0m\u001b[0;34m)\u001b[0m\u001b[0;34m:\u001b[0m\u001b[0;34m\u001b[0m\u001b[0;34m\u001b[0m\u001b[0m\n\u001b[0m\u001b[1;32m     73\u001b[0m                     \u001b[0minputs\u001b[0m \u001b[0;34m=\u001b[0m \u001b[0minputs\u001b[0m\u001b[0;34m.\u001b[0m\u001b[0mto\u001b[0m\u001b[0;34m(\u001b[0m\u001b[0mdevice\u001b[0m\u001b[0;34m)\u001b[0m\u001b[0;34m\u001b[0m\u001b[0;34m\u001b[0m\u001b[0m\n\u001b[1;32m     74\u001b[0m                     \u001b[0mlabels\u001b[0m \u001b[0;34m=\u001b[0m \u001b[0mlabels\u001b[0m\u001b[0;34m.\u001b[0m\u001b[0mto\u001b[0m\u001b[0;34m(\u001b[0m\u001b[0mdevice\u001b[0m\u001b[0;34m)\u001b[0m\u001b[0;34m\u001b[0m\u001b[0;34m\u001b[0m\u001b[0m\n",
      "\u001b[0;32m/usr/local/lib/python3.7/dist-packages/torch/utils/data/dataloader.py\u001b[0m in \u001b[0;36m__next__\u001b[0;34m(self)\u001b[0m\n\u001b[1;32m    519\u001b[0m             \u001b[0;32mif\u001b[0m \u001b[0mself\u001b[0m\u001b[0;34m.\u001b[0m\u001b[0m_sampler_iter\u001b[0m \u001b[0;32mis\u001b[0m \u001b[0;32mNone\u001b[0m\u001b[0;34m:\u001b[0m\u001b[0;34m\u001b[0m\u001b[0;34m\u001b[0m\u001b[0m\n\u001b[1;32m    520\u001b[0m                 \u001b[0mself\u001b[0m\u001b[0;34m.\u001b[0m\u001b[0m_reset\u001b[0m\u001b[0;34m(\u001b[0m\u001b[0;34m)\u001b[0m\u001b[0;34m\u001b[0m\u001b[0;34m\u001b[0m\u001b[0m\n\u001b[0;32m--> 521\u001b[0;31m             \u001b[0mdata\u001b[0m \u001b[0;34m=\u001b[0m \u001b[0mself\u001b[0m\u001b[0;34m.\u001b[0m\u001b[0m_next_data\u001b[0m\u001b[0;34m(\u001b[0m\u001b[0;34m)\u001b[0m\u001b[0;34m\u001b[0m\u001b[0;34m\u001b[0m\u001b[0m\n\u001b[0m\u001b[1;32m    522\u001b[0m             \u001b[0mself\u001b[0m\u001b[0;34m.\u001b[0m\u001b[0m_num_yielded\u001b[0m \u001b[0;34m+=\u001b[0m \u001b[0;36m1\u001b[0m\u001b[0;34m\u001b[0m\u001b[0;34m\u001b[0m\u001b[0m\n\u001b[1;32m    523\u001b[0m             \u001b[0;32mif\u001b[0m \u001b[0mself\u001b[0m\u001b[0;34m.\u001b[0m\u001b[0m_dataset_kind\u001b[0m \u001b[0;34m==\u001b[0m \u001b[0m_DatasetKind\u001b[0m\u001b[0;34m.\u001b[0m\u001b[0mIterable\u001b[0m \u001b[0;32mand\u001b[0m\u001b[0;31m \u001b[0m\u001b[0;31m\\\u001b[0m\u001b[0;34m\u001b[0m\u001b[0;34m\u001b[0m\u001b[0m\n",
      "\u001b[0;32m/usr/local/lib/python3.7/dist-packages/torch/utils/data/dataloader.py\u001b[0m in \u001b[0;36m_next_data\u001b[0;34m(self)\u001b[0m\n\u001b[1;32m    558\u001b[0m \u001b[0;34m\u001b[0m\u001b[0m\n\u001b[1;32m    559\u001b[0m     \u001b[0;32mdef\u001b[0m \u001b[0m_next_data\u001b[0m\u001b[0;34m(\u001b[0m\u001b[0mself\u001b[0m\u001b[0;34m)\u001b[0m\u001b[0;34m:\u001b[0m\u001b[0;34m\u001b[0m\u001b[0;34m\u001b[0m\u001b[0m\n\u001b[0;32m--> 560\u001b[0;31m         \u001b[0mindex\u001b[0m \u001b[0;34m=\u001b[0m \u001b[0mself\u001b[0m\u001b[0;34m.\u001b[0m\u001b[0m_next_index\u001b[0m\u001b[0;34m(\u001b[0m\u001b[0;34m)\u001b[0m  \u001b[0;31m# may raise StopIteration\u001b[0m\u001b[0;34m\u001b[0m\u001b[0;34m\u001b[0m\u001b[0m\n\u001b[0m\u001b[1;32m    561\u001b[0m         \u001b[0mdata\u001b[0m \u001b[0;34m=\u001b[0m \u001b[0mself\u001b[0m\u001b[0;34m.\u001b[0m\u001b[0m_dataset_fetcher\u001b[0m\u001b[0;34m.\u001b[0m\u001b[0mfetch\u001b[0m\u001b[0;34m(\u001b[0m\u001b[0mindex\u001b[0m\u001b[0;34m)\u001b[0m  \u001b[0;31m# may raise StopIteration\u001b[0m\u001b[0;34m\u001b[0m\u001b[0;34m\u001b[0m\u001b[0m\n\u001b[1;32m    562\u001b[0m         \u001b[0;32mif\u001b[0m \u001b[0mself\u001b[0m\u001b[0;34m.\u001b[0m\u001b[0m_pin_memory\u001b[0m\u001b[0;34m:\u001b[0m\u001b[0;34m\u001b[0m\u001b[0;34m\u001b[0m\u001b[0m\n",
      "\u001b[0;32m/usr/local/lib/python3.7/dist-packages/torch/utils/data/dataloader.py\u001b[0m in \u001b[0;36m_next_index\u001b[0;34m(self)\u001b[0m\n\u001b[1;32m    510\u001b[0m \u001b[0;34m\u001b[0m\u001b[0m\n\u001b[1;32m    511\u001b[0m     \u001b[0;32mdef\u001b[0m \u001b[0m_next_index\u001b[0m\u001b[0;34m(\u001b[0m\u001b[0mself\u001b[0m\u001b[0;34m)\u001b[0m\u001b[0;34m:\u001b[0m\u001b[0;34m\u001b[0m\u001b[0;34m\u001b[0m\u001b[0m\n\u001b[0;32m--> 512\u001b[0;31m         \u001b[0;32mreturn\u001b[0m \u001b[0mnext\u001b[0m\u001b[0;34m(\u001b[0m\u001b[0mself\u001b[0m\u001b[0;34m.\u001b[0m\u001b[0m_sampler_iter\u001b[0m\u001b[0;34m)\u001b[0m  \u001b[0;31m# may raise StopIteration\u001b[0m\u001b[0;34m\u001b[0m\u001b[0;34m\u001b[0m\u001b[0m\n\u001b[0m\u001b[1;32m    513\u001b[0m \u001b[0;34m\u001b[0m\u001b[0m\n\u001b[1;32m    514\u001b[0m     \u001b[0;32mdef\u001b[0m \u001b[0m_next_data\u001b[0m\u001b[0;34m(\u001b[0m\u001b[0mself\u001b[0m\u001b[0;34m)\u001b[0m\u001b[0;34m:\u001b[0m\u001b[0;34m\u001b[0m\u001b[0;34m\u001b[0m\u001b[0m\n",
      "\u001b[0;32m<ipython-input-6-230647e9a291>\u001b[0m in \u001b[0;36m__iter__\u001b[0;34m(self)\u001b[0m\n\u001b[1;32m     20\u001b[0m                 \u001b[0msupports\u001b[0m \u001b[0;34m=\u001b[0m \u001b[0mnp\u001b[0m\u001b[0;34m.\u001b[0m\u001b[0marray\u001b[0m\u001b[0;34m(\u001b[0m\u001b[0;34m[\u001b[0m\u001b[0;34m]\u001b[0m\u001b[0;34m,\u001b[0m \u001b[0mdtype\u001b[0m\u001b[0;34m=\u001b[0m\u001b[0mnp\u001b[0m\u001b[0;34m.\u001b[0m\u001b[0mint64\u001b[0m\u001b[0;34m)\u001b[0m\u001b[0;34m\u001b[0m\u001b[0;34m\u001b[0m\u001b[0m\n\u001b[1;32m     21\u001b[0m                 \u001b[0mqueries\u001b[0m \u001b[0;34m=\u001b[0m \u001b[0mnp\u001b[0m\u001b[0;34m.\u001b[0m\u001b[0marray\u001b[0m\u001b[0;34m(\u001b[0m\u001b[0;34m[\u001b[0m\u001b[0;34m]\u001b[0m\u001b[0;34m,\u001b[0m \u001b[0mdtype\u001b[0m\u001b[0;34m=\u001b[0m\u001b[0mnp\u001b[0m\u001b[0;34m.\u001b[0m\u001b[0mint64\u001b[0m\u001b[0;34m)\u001b[0m\u001b[0;34m\u001b[0m\u001b[0;34m\u001b[0m\u001b[0m\n\u001b[0;32m---> 22\u001b[0;31m                 \u001b[0msample_classes\u001b[0m \u001b[0;34m=\u001b[0m \u001b[0mnp\u001b[0m\u001b[0;34m.\u001b[0m\u001b[0mrandom\u001b[0m\u001b[0;34m.\u001b[0m\u001b[0mchoice\u001b[0m\u001b[0;34m(\u001b[0m\u001b[0mself\u001b[0m\u001b[0;34m.\u001b[0m\u001b[0mclasses\u001b[0m \u001b[0;34m,\u001b[0m \u001b[0msize\u001b[0m\u001b[0;34m=\u001b[0m\u001b[0mself\u001b[0m\u001b[0;34m.\u001b[0m\u001b[0mclasses_per_it\u001b[0m\u001b[0;34m,\u001b[0m \u001b[0mreplace\u001b[0m\u001b[0;34m=\u001b[0m\u001b[0;32mFalse\u001b[0m\u001b[0;34m)\u001b[0m\u001b[0;34m\u001b[0m\u001b[0;34m\u001b[0m\u001b[0m\n\u001b[0m\u001b[1;32m     23\u001b[0m                 \u001b[0;32mfor\u001b[0m \u001b[0mc\u001b[0m \u001b[0;32min\u001b[0m \u001b[0msample_classes\u001b[0m\u001b[0;34m:\u001b[0m\u001b[0;34m\u001b[0m\u001b[0;34m\u001b[0m\u001b[0m\n\u001b[1;32m     24\u001b[0m                     \u001b[0mclass_samples\u001b[0m \u001b[0;34m=\u001b[0m \u001b[0mnp\u001b[0m\u001b[0;34m.\u001b[0m\u001b[0mrandom\u001b[0m\u001b[0;34m.\u001b[0m\u001b[0mchoice\u001b[0m\u001b[0;34m(\u001b[0m\u001b[0mself\u001b[0m\u001b[0;34m.\u001b[0m\u001b[0mindices\u001b[0m\u001b[0;34m[\u001b[0m\u001b[0mself\u001b[0m\u001b[0;34m.\u001b[0m\u001b[0mlabels\u001b[0m\u001b[0;34m==\u001b[0m\u001b[0mc\u001b[0m\u001b[0;34m]\u001b[0m\u001b[0;34m,\u001b[0m \u001b[0msize\u001b[0m\u001b[0;34m=\u001b[0m\u001b[0mself\u001b[0m\u001b[0;34m.\u001b[0m\u001b[0msupport_sample_per_class\u001b[0m\u001b[0;34m+\u001b[0m\u001b[0mself\u001b[0m\u001b[0;34m.\u001b[0m\u001b[0mquery_sample_per_class\u001b[0m\u001b[0;34m,\u001b[0m \u001b[0mreplace\u001b[0m\u001b[0;34m=\u001b[0m\u001b[0;32mFalse\u001b[0m\u001b[0;34m)\u001b[0m\u001b[0;34m\u001b[0m\u001b[0;34m\u001b[0m\u001b[0m\n",
      "\u001b[0;32mmtrand.pyx\u001b[0m in \u001b[0;36mnumpy.random.mtrand.RandomState.choice\u001b[0;34m()\u001b[0m\n",
      "\u001b[0;31mValueError\u001b[0m: Cannot take a larger sample than population when 'replace=False'"
     ]
    }
   ],
   "source": [
    "ways = [2, 4, 8, 16, 32]\n",
    "accs_xway_5shot = []\n",
    "for way in ways:\n",
    "    print(\"\\n--------------- {}-way 5-shot ---------------\\n\".format(way))\n",
    "    _, acc = train_test(model=None, N_tr=way, K_tr=5, Q_tr=5, N_ts=10, K_ts=5, Q_ts=5)\n",
    "    accs_xway_5shot.append(acc)"
   ]
  },
  {
   "cell_type": "code",
   "execution_count": 41,
   "id": "bpHta44b3Lx6",
   "metadata": {
    "colab": {
     "base_uri": "https://localhost:8080/"
    },
    "id": "bpHta44b3Lx6",
    "outputId": "f071317a-0ee6-410d-f5bf-073bd1e8a8a8"
   },
   "outputs": [
    {
     "name": "stdout",
     "output_type": "stream",
     "text": [
      "\n",
      "--------------- 32-way 5-shot ---------------\n",
      "\n",
      "=== Epoch: 1 ===\n"
     ]
    },
    {
     "name": "stderr",
     "output_type": "stream",
     "text": [
      "100%|██████████| 500/500 [08:30<00:00,  1.02s/it]\n"
     ]
    },
    {
     "name": "stdout",
     "output_type": "stream",
     "text": [
      "Train Loss: 2.8475135333538057, Train Acc: 0.3972281315922737\n",
      "Val Loss: 3.135453097343445, Val Acc: 0.18420234701037408\n",
      "=== Epoch: 2 ===\n"
     ]
    },
    {
     "name": "stderr",
     "output_type": "stream",
     "text": [
      "100%|██████████| 500/500 [08:27<00:00,  1.02s/it]\n"
     ]
    },
    {
     "name": "stdout",
     "output_type": "stream",
     "text": [
      "Train Loss: 2.0556152745485305, Train Acc: 0.5197894625365734\n",
      "Val Loss: 4.040764589786529, Val Acc: 0.18183945639431476\n",
      "=== Epoch: 3 ===\n"
     ]
    },
    {
     "name": "stderr",
     "output_type": "stream",
     "text": [
      "100%|██████████| 500/500 [08:28<00:00,  1.02s/it]\n"
     ]
    },
    {
     "name": "stdout",
     "output_type": "stream",
     "text": [
      "Train Loss: 1.7589312054316202, Train Acc: 0.5991679789026578\n",
      "Val Loss: 6.639471158027649, Val Acc: 0.182529430270195\n",
      "=== Epoch: 4 ===\n"
     ]
    },
    {
     "name": "stderr",
     "output_type": "stream",
     "text": [
      "100%|██████████| 500/500 [08:27<00:00,  1.02s/it]\n"
     ]
    },
    {
     "name": "stdout",
     "output_type": "stream",
     "text": [
      "Train Loss: 1.713592797100544, Train Acc: 0.6535603622943162\n",
      "Val Loss: 9.745644043684006, Val Acc: 0.1815968781337142\n",
      "=== Epoch: 5 ===\n"
     ]
    },
    {
     "name": "stderr",
     "output_type": "stream",
     "text": [
      "100%|██████████| 500/500 [08:27<00:00,  1.02s/it]\n"
     ]
    },
    {
     "name": "stdout",
     "output_type": "stream",
     "text": [
      "Train Loss: 1.7950346096992493, Train Acc: 0.6961529797911644\n",
      "Val Loss: 16.30378082027435, Val Acc: 0.18104125312566757\n",
      "Test Acc: 0.4231824904680252\n"
     ]
    }
   ],
   "source": [
    "ways = [32]\n",
    "for way in ways:\n",
    "    print(\"\\n--------------- {}-way 5-shot ---------------\\n\".format(way))\n",
    "    _, acc = train_test(model=None, N_tr=way, K_tr=5, Q_tr=5, N_ts=10, K_ts=5, Q_ts=5)\n",
    "    accs_xway_5shot.append(acc)"
   ]
  },
  {
   "cell_type": "code",
   "execution_count": 42,
   "id": "l4ONz4ukzgZf",
   "metadata": {
    "colab": {
     "base_uri": "https://localhost:8080/",
     "height": 295
    },
    "id": "l4ONz4ukzgZf",
    "outputId": "81c4e23d-8186-418c-decb-ac0ce6493d57"
   },
   "outputs": [
    {
     "data": {
      "image/png": "[encoded data removed]",
      "text/plain": [
       "<Figure size 432x288 with 1 Axes>"
      ]
     },
     "metadata": {
      "needs_background": "light"
     },
     "output_type": "display_data"
    }
   ],
   "source": [
    "ways = [2, 4, 8, 16, 32]\n",
    "plt.plot(ways, accs_xway_5shot)\n",
    "plt.xlabel(\"ways\")\n",
    "plt.xticks(ways, ways)\n",
    "plt.ylabel(\"Test Accuracy\")\n",
    "_ = plt.title(\"Meta-Test Accuracy on 10-way 5-shot Meta-trained on x-way 5-shot\")"
   ]
  },
  {
   "cell_type": "markdown",
   "id": "xBlkOsbMxoi6",
   "metadata": {
    "id": "xBlkOsbMxoi6"
   },
   "source": [
    "sfgs"
   ]
  },
  {
   "cell_type": "markdown",
   "id": "blond-liverpool",
   "metadata": {
    "id": "blond-liverpool"
   },
   "source": [
    "## metatrain 10-way 10-shot  |  x-shot metatest"
   ]
  },
  {
   "cell_type": "code",
   "execution_count": 17,
   "id": "suffering-eugene",
   "metadata": {
    "colab": {
     "base_uri": "https://localhost:8080/",
     "height": 597
    },
    "id": "suffering-eugene",
    "outputId": "276259ab-a230-4459-e41e-748db3f95305"
   },
   "outputs": [
    {
     "name": "stdout",
     "output_type": "stream",
     "text": [
      "=== Epoch: 1 ===\n"
     ]
    },
    {
     "name": "stderr",
     "output_type": "stream",
     "text": [
      "100%|██████████| 500/500 [06:21<00:00,  1.31it/s]\n"
     ]
    },
    {
     "name": "stdout",
     "output_type": "stream",
     "text": [
      "Train Loss: 1.749773250222206, Train Acc: 0.588087485909462\n",
      "Val Loss: 1.4455127930641174, Val Acc: 0.5198249879479409\n",
      "=== Epoch: 2 ===\n"
     ]
    },
    {
     "name": "stderr",
     "output_type": "stream",
     "text": [
      "100%|██████████| 500/500 [06:21<00:00,  1.31it/s]\n"
     ]
    },
    {
     "name": "stdout",
     "output_type": "stream",
     "text": [
      "Train Loss: 1.2349267844557763, Train Acc: 0.6727756090760231\n",
      "Val Loss: 1.5664675096273422, Val Acc: 0.5188956133425235\n",
      "=== Epoch: 3 ===\n"
     ]
    },
    {
     "name": "stderr",
     "output_type": "stream",
     "text": [
      "100%|██████████| 500/500 [06:21<00:00,  1.31it/s]\n"
     ]
    },
    {
     "name": "stdout",
     "output_type": "stream",
     "text": [
      "Train Loss: 0.982918768465519, Train Acc: 0.7285453993082046\n",
      "Val Loss: 1.7589581509431202, Val Acc: 0.5168308219909667\n",
      "Test Acc: 0.5546874874830245\n"
     ]
    },
    {
     "ename": "UnboundLocalError",
     "evalue": "ignored",
     "output_type": "error",
     "traceback": [
      "\u001b[0;31m---------------------------------------------------------------------------\u001b[0m",
      "\u001b[0;31mUnboundLocalError\u001b[0m                         Traceback (most recent call last)",
      "\u001b[0;32m<ipython-input-17-5ac85b83761b>\u001b[0m in \u001b[0;36m<module>\u001b[0;34m()\u001b[0m\n\u001b[1;32m      3\u001b[0m \u001b[0maccs_metatest_10way_xshot\u001b[0m \u001b[0;34m=\u001b[0m \u001b[0;34m[\u001b[0m\u001b[0;34m]\u001b[0m\u001b[0;34m\u001b[0m\u001b[0;34m\u001b[0m\u001b[0m\n\u001b[1;32m      4\u001b[0m \u001b[0;32mfor\u001b[0m \u001b[0mshot\u001b[0m \u001b[0;32min\u001b[0m \u001b[0mmetatest_shots\u001b[0m\u001b[0;34m:\u001b[0m\u001b[0;34m\u001b[0m\u001b[0;34m\u001b[0m\u001b[0m\n\u001b[0;32m----> 5\u001b[0;31m     \u001b[0m_\u001b[0m\u001b[0;34m,\u001b[0m \u001b[0macc\u001b[0m \u001b[0;34m=\u001b[0m \u001b[0mtrain_test\u001b[0m\u001b[0;34m(\u001b[0m\u001b[0mmodel\u001b[0m\u001b[0;34m=\u001b[0m\u001b[0mmodel_10way_10shot\u001b[0m\u001b[0;34m,\u001b[0m \u001b[0mN_tr\u001b[0m\u001b[0;34m=\u001b[0m\u001b[0;36m10\u001b[0m\u001b[0;34m,\u001b[0m \u001b[0mK_tr\u001b[0m\u001b[0;34m=\u001b[0m\u001b[0mshot\u001b[0m\u001b[0;34m,\u001b[0m \u001b[0mQ_tr\u001b[0m\u001b[0;34m=\u001b[0m\u001b[0mshot\u001b[0m\u001b[0;34m,\u001b[0m \u001b[0mN_ts\u001b[0m\u001b[0;34m=\u001b[0m\u001b[0;36m10\u001b[0m\u001b[0;34m,\u001b[0m \u001b[0mK_ts\u001b[0m\u001b[0;34m=\u001b[0m\u001b[0mshot\u001b[0m\u001b[0;34m,\u001b[0m \u001b[0mQ_ts\u001b[0m\u001b[0;34m=\u001b[0m\u001b[0mshot\u001b[0m\u001b[0;34m)\u001b[0m\u001b[0;34m\u001b[0m\u001b[0;34m\u001b[0m\u001b[0m\n\u001b[0m\u001b[1;32m      6\u001b[0m     \u001b[0maccs_metatest_10way_xshot\u001b[0m\u001b[0;34m.\u001b[0m\u001b[0mappend\u001b[0m\u001b[0;34m(\u001b[0m\u001b[0macc\u001b[0m\u001b[0;34m)\u001b[0m\u001b[0;34m\u001b[0m\u001b[0;34m\u001b[0m\u001b[0m\n",
      "\u001b[0;32m<ipython-input-12-c2704e7c8ef8>\u001b[0m in \u001b[0;36mtrain_test\u001b[0;34m(model, N_tr, K_tr, Q_tr, N_ts, K_ts, Q_ts)\u001b[0m\n\u001b[1;32m     90\u001b[0m \u001b[0;34m\u001b[0m\u001b[0m\n\u001b[1;32m     91\u001b[0m     \u001b[0;31m#Test\u001b[0m\u001b[0;34m\u001b[0m\u001b[0;34m\u001b[0m\u001b[0;34m\u001b[0m\u001b[0m\n\u001b[0;32m---> 92\u001b[0;31m     \u001b[0mmodel\u001b[0m\u001b[0;34m.\u001b[0m\u001b[0mload_state_dict\u001b[0m\u001b[0;34m(\u001b[0m\u001b[0mbest_state\u001b[0m\u001b[0;34m)\u001b[0m\u001b[0;34m\u001b[0m\u001b[0;34m\u001b[0m\u001b[0m\n\u001b[0m\u001b[1;32m     93\u001b[0m     \u001b[0mmodel\u001b[0m\u001b[0;34m.\u001b[0m\u001b[0meval\u001b[0m\u001b[0;34m(\u001b[0m\u001b[0;34m)\u001b[0m\u001b[0;34m\u001b[0m\u001b[0;34m\u001b[0m\u001b[0m\n\u001b[1;32m     94\u001b[0m \u001b[0;34m\u001b[0m\u001b[0m\n",
      "\u001b[0;31mUnboundLocalError\u001b[0m: local variable 'best_state' referenced before assignment"
     ]
    }
   ],
   "source": [
    "model_10way_10shot, _ = train_test(model=None, N_tr=10, K_tr=10, Q_tr=10, N_ts=10, K_ts=10, Q_ts=10)"
   ]
  },
  {
   "cell_type": "code",
   "execution_count": 24,
   "id": "becoming-thought",
   "metadata": {
    "colab": {
     "base_uri": "https://localhost:8080/"
    },
    "id": "becoming-thought",
    "outputId": "e3f10657-e609-4b71-aae1-fa303e595f29"
   },
   "outputs": [
    {
     "name": "stdout",
     "output_type": "stream",
     "text": [
      "\n",
      " \u001b[1;36m --------------- 10-way 1-shot --------------- \u001b[0m \n",
      "\n",
      "Test Acc: 0.3257250053286552\n",
      "\n",
      " \u001b[1;36m --------------- 10-way 5-shot --------------- \u001b[0m \n",
      "\n",
      "Test Acc: 0.5049224869012833\n",
      "\n",
      " \u001b[1;36m --------------- 10-way 10-shot --------------- \u001b[0m \n",
      "\n",
      "Test Acc: 0.5553574873209\n",
      "\n",
      " \u001b[1;36m --------------- 10-way 15-shot --------------- \u001b[0m \n",
      "\n",
      "Test Acc: 0.5759125131368638\n",
      "\n",
      " \u001b[1;36m --------------- 10-way 20-shot --------------- \u001b[0m \n",
      "\n",
      "Test Acc: 0.5876587370634079\n"
     ]
    }
   ],
   "source": [
    "metatest_shots = [1, 5, 10, 15, 20]\n",
    "accs_metatest_10way_xshot = []\n",
    "for shot in metatest_shots:\n",
    "    print(\"\\n \\033[1;36m --------------- 10-way {}-shot --------------- \\033[0m \\n\".format(shot))\n",
    "    _, acc = train_test(model=model_10way_10shot, N_tr=10, K_tr=shot, Q_tr=shot, N_ts=10, K_ts=shot, Q_ts=shot)\n",
    "    accs_metatest_10way_xshot.append(acc)"
   ]
  },
  {
   "cell_type": "code",
   "execution_count": 25,
   "id": "stuffed-alaska",
   "metadata": {
    "colab": {
     "base_uri": "https://localhost:8080/",
     "height": 295
    },
    "id": "stuffed-alaska",
    "outputId": "ea884acc-9bd9-4669-dda2-19aa61369d74"
   },
   "outputs": [
    {
     "data": {
      "image/png": "[encoded data removed]",
      "text/plain": [
       "<Figure size 432x288 with 1 Axes>"
      ]
     },
     "metadata": {
      "needs_background": "light"
     },
     "output_type": "display_data"
    }
   ],
   "source": [
    "plt.plot(metatest_shots, accs_metatest_10way_xshot)\n",
    "plt.xlabel(\"Metatest Shots\")\n",
    "plt.xticks(metatest_shots, metatest_shots)\n",
    "plt.ylabel(\"Test Accuracy\")\n",
    "_ = plt.title(\"Meta-Test Accuracy on 10-way x-shot Meta-trained on 10-way 10-shot\")"
   ]
  },
  {
   "cell_type": "code",
   "execution_count": null,
   "id": "UMpRzV-mPnod",
   "metadata": {
    "id": "UMpRzV-mPnod"
   },
   "outputs": [],
   "source": []
  }
 ],
 "metadata": {
  "accelerator": "GPU",
  "colab": {
   "collapsed_sections": [],
   "name": "Prototypical.ipynb",
   "provenance": []
  },
  "kernelspec": {
   "display_name": "Python 3",
   "language": "python",
   "name": "python3"
  },
  "language_info": {
   "codemirror_mode": {
    "name": "ipython",
    "version": 3
   },
   "file_extension": ".py",
   "mimetype": "text/x-python",
   "name": "python",
   "nbconvert_exporter": "python",
   "pygments_lexer": "ipython3",
   "version": "3.9.7"
  }
 },
 "nbformat": 4,
 "nbformat_minor": 5
}
